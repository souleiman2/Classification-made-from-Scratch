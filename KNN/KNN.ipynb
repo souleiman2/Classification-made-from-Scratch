{
 "cells": [
  {
   "cell_type": "markdown",
   "metadata": {},
   "source": [
    "## Importer les librairies"
   ]
  },
  {
   "cell_type": "code",
   "execution_count": null,
   "metadata": {},
   "outputs": [],
   "source": [
    "using CSV, DataFrames, Distributions, Gadfly, GLM\n",
    "using Distances\n",
    "import StatsBase       # Pour la standardisation des variables"
   ]
  },
  {
   "cell_type": "markdown",
   "metadata": {},
   "source": [
    "## Traiter les données"
   ]
  },
  {
   "cell_type": "code",
   "execution_count": 6,
   "metadata": {},
   "outputs": [
    {
     "name": "stdout",
     "output_type": "stream",
     "text": [
      "(455, 10)\n",
      "(114, 10)\n"
     ]
    }
   ],
   "source": [
    "data = CSV.read(\"../train.csv\")\n",
    "y_train = data[end]\n",
    "\n",
    "temp_X_train = data[2:end-1] #omit id and diagnosis\n",
    "# Estimation des paramètres de la standardisation\n",
    "tx = StatsBase.fit(StatsBase.ZScoreTransform, Matrix{Float64}(temp_X_train), dims=1)\n",
    "# Standardisation des variables\n",
    "X_train = StatsBase.transform(tx, Matrix{Float64}(temp_X_train));\n",
    "\n",
    "data_test = CSV.read(\"../test.csv\")\n",
    "X_test = StatsBase.transform(tx, Matrix{Float64}(data_test[2:end]));\n",
    "\n",
    "id_test = data_test[1]\n",
    "\n",
    "\n",
    "println(size(X_train))\n",
    "println(size(X_test))\n"
   ]
  },
  {
   "cell_type": "markdown",
   "metadata": {},
   "source": [
    "## Faire le modele KNN"
   ]
  },
  {
   "cell_type": "code",
   "execution_count": 7,
   "metadata": {},
   "outputs": [
    {
     "data": {
      "text/plain": [
       "\"KNN.csv\""
      ]
     },
     "execution_count": 7,
     "metadata": {},
     "output_type": "execute_result"
    }
   ],
   "source": [
    "function calculateDist(vec1, vec2)\n",
    "    return euclidean(vec1,vec2)\n",
    "end\n",
    "\n",
    "function findIndexesNBiggest(n, tab)\n",
    "    temp = copy(tab)\n",
    "    indexes = []\n",
    "    while (n > 0 && size(tab)[1] > 0)\n",
    "        _, index_smaller = findmin(temp)\n",
    "        push!(indexes, index_smaller)\n",
    "        splice!(temp, index_smaller)\n",
    "        n -= 1\n",
    "    end\n",
    "    return indexes\n",
    "end\n",
    "\n",
    "function predict(k, X_train, y_train, X_test) #works best with odd k    \n",
    "    nb_data = size(X_train)[1]\n",
    "    \n",
    "    distances = []\n",
    "    for elem in 1:nb_data\n",
    "        push!(distances, calculateDist(X_test, X_train[elem, :]))\n",
    "    end\n",
    "    \n",
    "    indexes_distances = findIndexesNBiggest(k, distances)\n",
    "    \n",
    "    nb_0 = 0\n",
    "    for index in indexes_distances\n",
    "        if (y_train[index] == 0)\n",
    "            nb_0 += 1\n",
    "        end\n",
    "    end\n",
    "    \n",
    "    return convert(Int8, (nb_0 < k - nb_0))\n",
    "    \n",
    "end\n",
    "\n",
    "function knn(k, X_train, y_train, X_test)\n",
    "    ans = []\n",
    "    for elem in 1:size(X_test)[1]\n",
    "        push!(ans, predict(k, X_train, y_train, X_test[elem, :]))\n",
    "    end\n",
    "    return ans\n",
    "end\n",
    "\n",
    "\n"
   ]
  },
  {
   "cell_type": "markdown",
   "metadata": {},
   "source": [
    "## K-cross validation"
   ]
  },
  {
   "cell_type": "code",
   "execution_count": null,
   "metadata": {},
   "outputs": [],
   "source": []
  },
  {
   "cell_type": "markdown",
   "metadata": {},
   "source": [
    "## Trouver le K qui minimise l'erreur selon les métriques"
   ]
  },
  {
   "cell_type": "code",
   "execution_count": null,
   "metadata": {},
   "outputs": [],
   "source": []
  },
  {
   "cell_type": "markdown",
   "metadata": {},
   "source": [
    "## Rouler le code avec ce K"
   ]
  },
  {
   "cell_type": "code",
   "execution_count": null,
   "metadata": {},
   "outputs": [],
   "source": [
    "k = 3\n",
    "y_test = knn(k, X_train, y_train, X_test)\n",
    "prediction = DataFrame(id = id_test, diagnosis = y_test)\n",
    "CSV.write(\"KNN.csv\",prediction)"
   ]
  }
 ],
 "metadata": {
  "kernelspec": {
   "display_name": "Julia 1.5.1",
   "language": "julia",
   "name": "julia-1.5"
  },
  "language_info": {
   "file_extension": ".jl",
   "mimetype": "application/julia",
   "name": "julia",
   "version": "1.5.1"
  }
 },
 "nbformat": 4,
 "nbformat_minor": 4
}
