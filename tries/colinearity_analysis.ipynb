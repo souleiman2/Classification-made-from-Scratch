{
 "cells": [
  {
   "cell_type": "code",
   "execution_count": 1,
   "metadata": {},
   "outputs": [],
   "source": [
    "using CSV, DataFrames, Distributions, Gadfly, GLM"
   ]
  },
  {
   "cell_type": "markdown",
   "metadata": {},
   "source": [
    "## 1. Chargement des données\n",
    "\n",
    "Assurez vous d'avoir télécharger les données dans le répertoire de ce calepin."
   ]
  },
  {
   "cell_type": "code",
   "execution_count": 2,
   "metadata": {
    "scrolled": true
   },
   "outputs": [
    {
     "name": "stderr",
     "output_type": "stream",
     "text": [
      "┌ Warning: `CSV.read(input; kw...)` is deprecated in favor of `using DataFrames; CSV.read(input, DataFrame; kw...)\n",
      "│   caller = read(::String) at CSV.jl:40\n",
      "└ @ CSV C:\\Users\\Philippe\\.julia\\packages\\CSV\\MKemC\\src\\CSV.jl:40\n"
     ]
    },
    {
     "data": {
      "text/html": [
       "<table class=\"data-frame\"><thead><tr><th></th><th>id</th><th>radius</th><th>texture</th><th>perimeter</th><th>area</th><th>smoothness</th><th>compactness</th><th>concavity</th></tr><tr><th></th><th>Int64</th><th>Float64</th><th>Float64</th><th>Float64</th><th>Float64</th><th>Float64</th><th>Float64</th><th>Float64</th></tr></thead><tbody><p>5 rows × 12 columns (omitted printing of 4 columns)</p><tr><th>1</th><td>1</td><td>16.641</td><td>21.3452</td><td>110.798</td><td>901.347</td><td>0.112388</td><td>0.145148</td><td>0.153247</td></tr><tr><th>2</th><td>2</td><td>13.6884</td><td>21.1035</td><td>90.5878</td><td>578.09</td><td>0.0941204</td><td>0.101193</td><td>0.035445</td></tr><tr><th>3</th><td>3</td><td>12.9131</td><td>14.3055</td><td>85.3309</td><td>511.539</td><td>0.0863069</td><td>0.136213</td><td>0.13536</td></tr><tr><th>4</th><td>4</td><td>12.9474</td><td>15.1198</td><td>86.2821</td><td>539.445</td><td>0.0925851</td><td>0.0849802</td><td>0.0937507</td></tr><tr><th>5</th><td>5</td><td>19.4972</td><td>24.8959</td><td>127.491</td><td>1200.37</td><td>0.101691</td><td>0.0989018</td><td>0.166237</td></tr></tbody></table>"
      ],
      "text/latex": [
       "\\begin{tabular}{r|ccccccccc}\n",
       "\t& id & radius & texture & perimeter & area & smoothness & compactness & concavity & \\\\\n",
       "\t\\hline\n",
       "\t& Int64 & Float64 & Float64 & Float64 & Float64 & Float64 & Float64 & Float64 & \\\\\n",
       "\t\\hline\n",
       "\t1 & 1 & 16.641 & 21.3452 & 110.798 & 901.347 & 0.112388 & 0.145148 & 0.153247 & $\\dots$ \\\\\n",
       "\t2 & 2 & 13.6884 & 21.1035 & 90.5878 & 578.09 & 0.0941204 & 0.101193 & 0.035445 & $\\dots$ \\\\\n",
       "\t3 & 3 & 12.9131 & 14.3055 & 85.3309 & 511.539 & 0.0863069 & 0.136213 & 0.13536 & $\\dots$ \\\\\n",
       "\t4 & 4 & 12.9474 & 15.1198 & 86.2821 & 539.445 & 0.0925851 & 0.0849802 & 0.0937507 & $\\dots$ \\\\\n",
       "\t5 & 5 & 19.4972 & 24.8959 & 127.491 & 1200.37 & 0.101691 & 0.0989018 & 0.166237 & $\\dots$ \\\\\n",
       "\\end{tabular}\n"
      ],
      "text/plain": [
       "5×12 DataFrame. Omitted printing of 6 columns\n",
       "│ Row │ id    │ radius  │ texture │ perimeter │ area    │ smoothness │\n",
       "│     │ \u001b[90mInt64\u001b[39m │ \u001b[90mFloat64\u001b[39m │ \u001b[90mFloat64\u001b[39m │ \u001b[90mFloat64\u001b[39m   │ \u001b[90mFloat64\u001b[39m │ \u001b[90mFloat64\u001b[39m    │\n",
       "├─────┼───────┼─────────┼─────────┼───────────┼─────────┼────────────┤\n",
       "│ 1   │ 1     │ 16.641  │ 21.3452 │ 110.798   │ 901.347 │ 0.112388   │\n",
       "│ 2   │ 2     │ 13.6884 │ 21.1035 │ 90.5878   │ 578.09  │ 0.0941204  │\n",
       "│ 3   │ 3     │ 12.9131 │ 14.3055 │ 85.3309   │ 511.539 │ 0.0863069  │\n",
       "│ 4   │ 4     │ 12.9474 │ 15.1198 │ 86.2821   │ 539.445 │ 0.0925851  │\n",
       "│ 5   │ 5     │ 19.4972 │ 24.8959 │ 127.491   │ 1200.37 │ 0.101691   │"
      ]
     },
     "execution_count": 2,
     "metadata": {},
     "output_type": "execute_result"
    }
   ],
   "source": [
    "data = CSV.read(\"train.csv\")\n",
    "first(data,5)"
   ]
  },
  {
   "cell_type": "markdown",
   "metadata": {},
   "source": [
    "## Analyse VIF\n",
    "On effectue une analyse VIF afin de trouver les variables qui sont colinéaires. "
   ]
  },
  {
   "cell_type": "code",
   "execution_count": 3,
   "metadata": {},
   "outputs": [
    {
     "data": {
      "text/plain": [
       "455×11 Array{Float64,2}:\n",
       " 1.0  16.641    21.3452  110.798   …  0.0920613   0.198671  0.0623664\n",
       " 1.0  13.6884   21.1035   90.5878     0.0235371   0.159577  0.0666234\n",
       " 1.0  12.9131   14.3055   85.3309     0.0403623   0.161607  0.0643816\n",
       " 1.0  12.9474   15.1198   86.2821     0.0347676   0.180346  0.0620803\n",
       " 1.0  19.4972   24.8959  127.491      0.0910854   0.163297  0.0525529\n",
       " 1.0  17.9685   23.9732  113.391   …  0.0484731   0.151199  0.0557704\n",
       " 1.0  23.3328   26.9409  158.255      0.162356    0.219854  0.0638086\n",
       " 1.0  14.2786   19.7755   97.6468     0.077536    0.168895  0.0776988\n",
       " 1.0  15.1174   17.6523   97.2838     0.086759    0.195411  0.0621996\n",
       " 1.0  11.6321   17.1527   72.8543     0.0119356   0.164791  0.0580381\n",
       " 1.0  10.2032   15.277    62.1731  …  0.00219165  0.173398  0.0601456\n",
       " 1.0  17.9246   23.1838  119.639      0.100181    0.168613  0.0733048\n",
       " 1.0  12.353    13.3258   76.958      0.0303991   0.189011  0.0640515\n",
       " ⋮                                 ⋱                        ⋮        \n",
       " 1.0  11.7623   18.1958   75.8623     0.0349781   0.18381   0.0652125\n",
       " 1.0  12.9688   21.1586   82.4203     0.0185012   0.158473  0.0615111\n",
       " 1.0   9.39345  21.6921   60.5956  …  0.0128887   0.171346  0.0665872\n",
       " 1.0  21.7205   22.1599  141.698      0.13877     0.172729  0.0550958\n",
       " 1.0  13.6652   18.4648   86.7237     0.0280953   0.164043  0.0564101\n",
       " 1.0  11.117    17.0426   71.7373     0.0427221   0.195363  0.0795638\n",
       " 1.0  16.73     19.8675  108.514      0.0230244   0.186079  0.0528388\n",
       " 1.0  13.3056   18.3079   84.3656  …  0.0286478   0.146614  0.0556389\n",
       " 1.0  12.6503   15.6089   81.2097     0.0312044   0.172901  0.0593135\n",
       " 1.0  14.9312   15.3926   96.6674     0.0392574   0.187352  0.0598695\n",
       " 1.0  12.475    17.8126   83.3205     0.0515431   0.164105  0.069123 \n",
       " 1.0  21.8119   17.232   140.861      0.0839713   0.171733  0.050786 "
      ]
     },
     "execution_count": 3,
     "metadata": {},
     "output_type": "execute_result"
    }
   ],
   "source": [
    "# On regroupe les donnees dans une matrice afin de pouvoir appliquer la formule du VIF vue en cours\n",
    "y = data.diagnosis\n",
    "n = length(y)\n",
    "\n",
    "x1 = data.radius\n",
    "x2 = data.texture\n",
    "\n",
    "x3 = data.perimeter\n",
    "x4 = data.area\n",
    "x5 = data.smoothness\n",
    "x6 = data.compactness\n",
    "x7 = data.concavity\n",
    "x8 = data.concave_points\n",
    "x9 = data.symmetry\n",
    "x10 = data.fractal_dimension\n",
    "\n",
    "\n",
    "X = hcat(ones(n), x1, x2, x3, x4, x5, x6, x7, x8, x9, x10)"
   ]
  },
  {
   "cell_type": "code",
   "execution_count": 4,
   "metadata": {},
   "outputs": [
    {
     "data": {
      "text/plain": [
       "10-element Array{Float64,1}:\n",
       " 266.1297590763434   \n",
       "   1.1706510066905178\n",
       " 301.44740092368613  \n",
       "  53.67515909901567  \n",
       "   3.0052608367491307\n",
       "  12.706350011376493 \n",
       "  10.931677551238156 \n",
       "  21.945126992683015 \n",
       "   1.7760514674474783\n",
       "   6.19575964017116  "
      ]
     },
     "execution_count": 4,
     "metadata": {},
     "output_type": "execute_result"
    }
   ],
   "source": [
    "# On compute le VIF  \n",
    "function compute_VIF(structureMatrix::Array{T,2} where T<:Real)\n",
    "    \n",
    "    n, m = size(structureMatrix)\n",
    "    \n",
    "    p = m-1  # nb de variables explicatives\n",
    "    \n",
    "    VIF = Float64[]\n",
    "    \n",
    "    for j in 2:m\n",
    "       \n",
    "        y = structureMatrix[:,j]\n",
    "        X = structureMatrix[:, setdiff(1:m, j)]\n",
    "        \n",
    "        β̂ = X\\y\n",
    "        \n",
    "        e = y - X*β̂\n",
    "        \n",
    "        SST = sum( (y .- mean(y)).^2)\n",
    "        SSE = e'e\n",
    "        \n",
    "        R² = 1 - SSE/SST\n",
    "        \n",
    "        push!(VIF, 1/(1-R²))\n",
    "        \n",
    "    end\n",
    "    \n",
    "    return VIF\n",
    "    \n",
    "end\n",
    "\n",
    "VIF = compute_VIF(X)"
   ]
  },
  {
   "cell_type": "markdown",
   "metadata": {},
   "source": [
    "### On obtiens la matrice pearson suivante:\n",
    "<img src=\"matrice_pearson.png\">\n",
    "\n",
    " On constate qu'en premier lieu les variables radius, perimeter et area sont correlés, ainsi que\n",
    " concavity et compactness et concave points et radius, perimeter, area, compactness et concavity."
   ]
  },
  {
   "cell_type": "markdown",
   "metadata": {},
   "source": []
  },
  {
   "cell_type": "code",
   "execution_count": 8,
   "metadata": {},
   "outputs": [
    {
     "name": "stdout",
     "output_type": "stream",
     "text": [
      "[1.0 NaN NaN NaN NaN NaN NaN NaN NaN NaN NaN; NaN 1.0 0.316611 0.99641 0.987744 0.127805 0.495466 0.666441 0.819577 0.112859 -0.319216; NaN 0.316611 1.0 0.32387 0.317515 -0.0292291 0.227757 0.295231 0.290478 0.0600477 -0.0765374; NaN 0.99641 0.32387 1.0 0.986401 0.161333 0.544293 0.705321 0.846982 0.149781 -0.272874; NaN 0.987744 0.317515 0.986401 1.0 0.138941 0.488267 0.674318 0.820254 0.115079 -0.291538; NaN 0.127805 -0.0292291 0.161333 0.138941 1.0 0.633129 0.485734 0.522616 0.563241 0.609808; NaN 0.495466 0.227757 0.544293 0.488267 0.633129 1.0 0.8802 0.828568 0.588045 0.561278; NaN 0.666441 0.295231 0.705321 0.674318 0.485734 0.8802 1.0 0.916493 0.476153 0.336019; NaN 0.819577 0.290478 0.846982 0.820254 0.522616 0.828568 0.916493 1.0 0.441229 0.164148; NaN 0.112859 0.0600477 0.149781 0.115079 0.563241 0.588045 0.476153 0.441229 1.0 0.490386; NaN -0.319216 -0.0765374 -0.272874 -0.291538 0.609808 0.561278 0.336019 0.164148 0.490386 1.0]"
     ]
    },
    {
     "data": {
      "text/plain": [
       "\"pearson.csv\""
      ]
     },
     "execution_count": 8,
     "metadata": {},
     "output_type": "execute_result"
    }
   ],
   "source": [
    "pearson_matrix = cor(X)\n",
    "print(pearson_matrix)\n",
    "CSV.write(\"pearson.csv\",  DataFrame(pearson_matrix), header=false)"
   ]
  },
  {
   "cell_type": "markdown",
   "metadata": {},
   "source": [
    "À partir de cette analyse, on repère certaines variables qui sont particulièrement déjà bien définies par d'autres. C'est le cas du groupe radius - perimeter - area, ainsi que de concave_points. Pour obtenir une matrice sans trop de colinéarité, on peut choisir d'enlever les variables perimeter, area, et concave_points, et vérifier que tous les VIF descendent en-dessous de 10."
   ]
  },
  {
   "cell_type": "code",
   "execution_count": 9,
   "metadata": {},
   "outputs": [
    {
     "data": {
      "text/plain": [
       "7-element Array{Float64,1}:\n",
       " 5.5327097389763775\n",
       " 1.1669474886241644\n",
       " 2.2058772479566606\n",
       " 8.8653931948315   \n",
       " 6.715173681197087 \n",
       " 1.7536338017101563\n",
       " 5.3889528405995994"
      ]
     },
     "execution_count": 9,
     "metadata": {},
     "output_type": "execute_result"
    }
   ],
   "source": [
    "new_X = hcat(ones(n), x1, x2, x5, x6, x7, x9, x10)\n",
    "compute_VIF(new_X)"
   ]
  },
  {
   "cell_type": "code",
   "execution_count": null,
   "metadata": {},
   "outputs": [],
   "source": []
  }
 ],
 "metadata": {
  "@webio": {
   "lastCommId": null,
   "lastKernelId": null
  },
  "kernelspec": {
   "display_name": "Julia 1.5.1",
   "language": "julia",
   "name": "julia-1.5"
  },
  "language_info": {
   "file_extension": ".jl",
   "mimetype": "application/julia",
   "name": "julia",
   "version": "1.5.1"
  }
 },
 "nbformat": 4,
 "nbformat_minor": 4
}
