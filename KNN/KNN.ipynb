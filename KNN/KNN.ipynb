{
 "cells": [
  {
   "cell_type": "markdown",
   "metadata": {},
   "source": [
    "## Importer les librairies"
   ]
  },
  {
   "cell_type": "code",
   "execution_count": null,
   "metadata": {},
   "outputs": [],
   "source": [
    "using CSV\n",
    "using DataFrames\n",
    "using Distributions\n",
    "using Gadfly\n",
    "using GLM\n",
    "using Plots\n",
    "using Distances\n",
    "import StatsBase       # Pour la standardisation des variables\n",
    "using LinearAlgebra\n",
    "using Statistics\n",
    "include(\"functions.jl\")"
   ]
  },
  {
   "cell_type": "markdown",
   "metadata": {},
   "source": [
    "## Traiter les données"
   ]
  },
  {
   "cell_type": "code",
   "execution_count": null,
   "metadata": {},
   "outputs": [],
   "source": [
    "data = CSV.read(\"../train.csv\")\n",
    "y_train = data[end]\n",
    "\n",
    "\n",
    "X_train = data[2:end-1] #omit id and diagnosis\n",
    "\n",
    "data_test = CSV.read(\"../test.csv\")\n",
    "X_test = data_test[2:end]\n",
    "\n",
    "id_test = data_test[1]\n",
    "\n",
    "\n",
    "println(size(X_train))\n",
    "println(size(X_test))\n",
    "\n",
    "length_train = size(X_train)[1]\n",
    "length_test = size(X_train)[1]\n",
    "\n",
    "\n",
    "new_X = vcat(X_train, X_test)\n"
   ]
  },
  {
   "cell_type": "code",
   "execution_count": null,
   "metadata": {
    "scrolled": true
   },
   "outputs": [],
   "source": [
    "X = convert(Array{Float64}, new_X)\n",
    "\n",
    "Z = standardize(X)\n",
    "\n",
    "# Décomposition en valeurs singulières de la matrice rectangulaire Z\n",
    "F = svd(Z)\n",
    "\n",
    "# Extraction de la matrice U\n",
    "U = F.U\n",
    "\n",
    "# Extraction de la matrice V\n",
    "V = F.V\n",
    "\n",
    "# Extraction des valeurs singulières\n",
    "γ = F.S"
   ]
  },
  {
   "cell_type": "markdown",
   "metadata": {},
   "source": [
    "## Visualiser les données"
   ]
  },
  {
   "cell_type": "markdown",
   "metadata": {},
   "source": [
    "<img id=\"myimage\" src=\"pair.png\" style=\" height:500px; width:500px;\">\n",
    "\n",
    "\n",
    "\n"
   ]
  },
  {
   "cell_type": "markdown",
   "metadata": {},
   "source": [
    "## Version Agrandie par souci de lisibilité"
   ]
  },
  {
   "cell_type": "markdown",
   "metadata": {},
   "source": [
    "\n",
    "<div class=\"img-zoom-container\", style=\"overflow:auto; height:550px; width:5669px;\">\n",
    "  <img id=\"myimage\" src=\"pair.png\" style=\" height:5669px; width:5669px;\">>\n",
    "</div>\n"
   ]
  },
  {
   "cell_type": "code",
   "execution_count": null,
   "metadata": {},
   "outputs": [],
   "source": [
    "Gadfly.set_default_plot_size(150cm, 150cm)\n",
    "\n",
    "matrix = Array{Plot}(undef, 10, 10)\n",
    "\n",
    "column = names(data)[2:end-1]\n",
    "i = 1\n",
    "for c1 in column\n",
    "    j = 1\n",
    "    for c2 in column\n",
    "        if (i == j)\n",
    "            matrix[i,j] = Gadfly.plot(data, x = c1, Geom.histogram(bincount = 30), color = :diagnosis)\n",
    "        else\n",
    "            matrix[i,j] = Gadfly.plot(data, x = c1, y = c2, color = :diagnosis)\n",
    "        end\n",
    "        j+=1\n",
    "    end \n",
    "    i+=1\n",
    "end \n",
    "\n",
    "\n",
    "#grid = gridstack(matrix) # graphing is so computationnally hard that it makes the jupyter bug\n",
    "\n",
    "println(\"Graphing is done\")"
   ]
  },
  {
   "cell_type": "markdown",
   "metadata": {},
   "source": [
    "## Faire le modèle KNN"
   ]
  },
  {
   "cell_type": "markdown",
   "metadata": {},
   "source": [
    "Le K-nearest neighbors algorithm est un algorithme de classification assez simple. Il se base sur le principe que si un nouvelle donnée dont nous ne connaissons pas la classification se trouve proche d'autre donné que nous connaissons la classification, la donnée dont nous ne connaissons pas la classe devrait appartenir à la classe dont les donnes"
   ]
  },
  {
   "cell_type": "code",
   "execution_count": null,
   "metadata": {},
   "outputs": [],
   "source": [
    "function calculateDist(vec1, vec2)\n",
    "    dist = 0\n",
    "    taille = size(vec1)[1]\n",
    "    for i = 1:taille\n",
    "        dist += (vec1[i]-vec2[i])^2\n",
    "    end\n",
    "    \n",
    "    return dist\n",
    "end\n",
    "\n",
    "function findMin(n, tab, used_indexes)\n",
    "    mini_pos = 1\n",
    "    mini = tab[mini_pos]\n",
    "    \n",
    "    for i = 2:length(tab)\n",
    "        if (tab[i] < mini && !(i in used_indexes))\n",
    "            mini_pos = i\n",
    "            mini = tab[i]\n",
    "        end\n",
    "    end\n",
    "    return mini_pos\n",
    "end\n",
    "\n",
    "\n",
    "function findIndexesNSmallest(n, tab)\n",
    "    temp = copy(tab)\n",
    "    indexes = []\n",
    "    for i = 1:n\n",
    "        new_index = findMin(n, temp, indexes)\n",
    "        push!(indexes, new_index)\n",
    "    end\n",
    "    \n",
    "\n",
    "    return indexes\n",
    "end\n",
    "\n",
    "function predict(k, X_train, y_train, X_test) #works best with odd k    \n",
    "    nb_data = size(X_train)[1]\n",
    "    \n",
    "    distances = []\n",
    "    for elem in 1:nb_data\n",
    "        push!(distances, calculateDist(X_test, X_train[elem, :]))\n",
    "    end\n",
    "    \n",
    "    indexes_distances = findIndexesNSmallest(k, distances)\n",
    "    \n",
    "    nb_0 = 0\n",
    "    for index in indexes_distances\n",
    "        if (y_train[index] == 0)\n",
    "            nb_0 += 1\n",
    "        end\n",
    "    end\n",
    "    \n",
    "    return convert(Int8, (nb_0 < k - nb_0))\n",
    "    \n",
    "end\n",
    "\n",
    "function knn(k, X_train, y_train, X_test)\n",
    "    ans = []\n",
    "    for elem in 1:size(X_test)[1]\n",
    "        push!(ans, predict(k, X_train, y_train, X_test[elem, :]))\n",
    "    end\n",
    "    return ans\n",
    "end\n",
    "\n",
    "\n"
   ]
  },
  {
   "cell_type": "markdown",
   "metadata": {},
   "source": [
    "## K-cross validation"
   ]
  },
  {
   "cell_type": "code",
   "execution_count": null,
   "metadata": {},
   "outputs": [],
   "source": [
    "# K-cross validation\n",
    "function findAllIndexes(length, nb_blocks)\n",
    "    return [(convert(Int16, floor((i-1)*length/nb_blocks))+1, convert(Int16, floor(i*length/nb_blocks))) for i = 1:nb_blocks]\n",
    "end\n",
    "\n",
    "function countTFPN(t_label, predictions)\n",
    "    TP, FP, FN, TN = 0, 0, 0, 0\n",
    "    taille = size(t_label)[1]\n",
    "    for i = 1:taille\n",
    "        if(t_label[i] == 1 && predictions[i] == 1)\n",
    "            TP += 1\n",
    "        elseif(t_label[i] == 1 && predictions[i] == 0)\n",
    "            FN += 1\n",
    "        elseif(t_label[i] == 0 && predictions[i] == 1)\n",
    "            FP += 1\n",
    "        elseif(t_label[i] == 0 && predictions[i] == 0)\n",
    "            TN += 1\n",
    "        end\n",
    "            \n",
    "    end\n",
    "    return TP, FP, FN, TN\n",
    "end\n",
    "\n",
    "function computeMetrics(t_label, predictions)\n",
    "    TP, FP, FN, TN = countTFPN(t_label, predictions)\n",
    "    precision, recall, accuracy = (TP/(TP + FP)), (TP/(TP + FN)), ((TP+TN)/(TP + FP + FN + TN))\n",
    "    return [precision, recall, accuracy]\n",
    "end\n",
    "\n",
    "function split_train_test(X, y, index)\n",
    "    sub_X_train = [X[1 : index[1]-1, :]; X[index[2] : end, :]]\n",
    "    sub_X_test = X[index[1] : index[2], :]\n",
    "    sub_y_train = [y[1 : index[1]-1]; y[index[2] : end]]\n",
    "    true_y_test = y[index[1] : index[2]]\n",
    "    return sub_X_train, sub_X_test, sub_y_train, true_y_test\n",
    "end\n",
    "\n",
    "\n",
    "function KCrossValidation(k, X, y, nb_blocks = 15)\n",
    "    indexes = findAllIndexes(size(X_test)[1],nb_blocks)\n",
    "    ans = []\n",
    "    for interval = indexes\n",
    "        sub_X_train, sub_X_test, sub_y_train, true_y_test = split_train_test(X, y, interval)\n",
    "        sub_y_test =  knn(k, sub_X_train, sub_y_train, sub_X_test)\n",
    "        push!(ans, computeMetrics(true_y_test, sub_y_test))\n",
    "    end\n",
    "    temp = mean(ans)\n",
    "    return temp\n",
    "end\n"
   ]
  },
  {
   "cell_type": "markdown",
   "metadata": {},
   "source": [
    "## Trouver le K qui minimise l'erreur selon les métriques"
   ]
  },
  {
   "cell_type": "code",
   "execution_count": null,
   "metadata": {},
   "outputs": [],
   "source": [
    "mat = γ[1] *U[:, 1]*V[:,1]'\n",
    "\n",
    "X_train = mat[1:length_train, :]\n",
    "X_test = mat[length_train+1:end, :]\n",
    "\n",
    "println(size(X_train))\n",
    "println(size(X_test))\n",
    "println(size(y_train))\n",
    "println(size(y_test))\n",
    "\n"
   ]
  },
  {
   "cell_type": "code",
   "execution_count": null,
   "metadata": {},
   "outputs": [],
   "source": [
    "spy_matrix = Array{AbstractFloat}(undef, 10, 10)\n",
    "spy_matrix_text = Array{Plots.PlotText}(undef, 10, 10)\n",
    "for j = 1:10\n",
    "    println(\"Index : \", j)\n",
    "    \n",
    "    mat = γ[1] *U[:, 1]*V[:,1]'\n",
    "    for k = 2:j\n",
    "        mat += γ[k] *U[:, k]*V[:,k]'\n",
    "    end\n",
    "    \n",
    "\n",
    "    X_train = mat[1:length_train, :]\n",
    "\n",
    "    X_test = mat[length_train+1:end, :]\n",
    "    metrics = []\n",
    "    gen_temp = 1:2:19\n",
    "    for i = 1:2:19\n",
    "        temp = KCrossValidation(i, X_train, y_train)\n",
    "        if (i ==  1)\n",
    "            metrics = [[elem] for elem = temp]\n",
    "        else\n",
    "            taille = size(temp)[1]\n",
    "            for index = 1:taille\n",
    "                push!(metrics[index], temp[index])\n",
    "            end\n",
    "        end\n",
    "\n",
    "    end\n",
    "    ks = [i for i = gen_temp]\n",
    "\n",
    "    \n",
    "    precision = metrics[1]\n",
    "    recall = metrics[2]\n",
    "    for index = 1:length(precision)\n",
    "        f1 = 2*(precision[index] * recall[index])/(precision[index] + recall[index])\n",
    "        println(\"F1 score \",index*2 - 1,  \"NN : \", f1)\n",
    "        spy_matrix[index,j] = f1\n",
    "        spy_matrix_text[index,j] = Plots.text(round(f1, digits=4),9)\n",
    "    end\n",
    "    \n",
    "end\n"
   ]
  },
  {
   "cell_type": "code",
   "execution_count": null,
   "metadata": {
    "scrolled": true
   },
   "outputs": [],
   "source": [
    "Gadfly.set_default_plot_size(12cm, 12cm)\n",
    "Axis_k = [\"1\",\"3\",\"5\",\"7\",\"9\",\"11\",\"13\",\"15\",\"17\",\"19\"]\n",
    "Axis_PCA = [\"1\",\"2\",\"3\",\"4\",\"5\",\"6\",\"7\",\"8\",\"9\",\"10\"]\n",
    "p = heatmap(Axis_PCA,Axis_k,spy_matrix,\n",
    "    ylabel =\"Value of K in the KNN\",\n",
    "    xlabel = \"Number of parameters conserved by the PCA\",\n",
    "    title = \"F1 score in function of the hyperparameters\",\n",
    "    c=:Greens\n",
    ")\n",
    "annotate!( vec(tuple.((1:length(Axis_PCA))'.-0.5, (1:length(Axis_k)).-0.5, spy_matrix_text)) )\n"
   ]
  },
  {
   "cell_type": "code",
   "execution_count": null,
   "metadata": {},
   "outputs": [],
   "source": [
    "plot(x=ks, y=metrics[1], Geom.line, Guide.xlabel(\"K\"), Guide.ylabel(y_titles[1]))"
   ]
  },
  {
   "cell_type": "code",
   "execution_count": null,
   "metadata": {},
   "outputs": [],
   "source": [
    "plot(x=ks, y=metrics[2], Geom.line, Guide.xlabel(\"K\"), Guide.ylabel(y_titles[2]))"
   ]
  },
  {
   "cell_type": "code",
   "execution_count": null,
   "metadata": {},
   "outputs": [],
   "source": [
    "plot(x=ks, y=metrics[3], Geom.line, Guide.xlabel(\"K\"), Guide.ylabel(y_titles[3]))"
   ]
  },
  {
   "cell_type": "markdown",
   "metadata": {},
   "source": [
    "## Rouler le code avec ce K"
   ]
  },
  {
   "cell_type": "code",
   "execution_count": null,
   "metadata": {},
   "outputs": [],
   "source": [
    "k = 9\n",
    "\n",
    "mat = γ[1] *U[:, 1]*V[:,1]'\n",
    "for i = 2:8\n",
    "    mat += γ[i] *U[:, i]*V[:,i]'\n",
    "end\n",
    "X_train = mat[1:length_train, :]\n",
    "X_test = mat[length_train+1:end, :]\n",
    "\n",
    "y_test = knn(k, X_train, y_train, X_test)\n",
    "prediction = DataFrame(id = id_test, diagnosis = y_test)\n",
    "CSV.write(\"KNN.csv\",prediction)"
   ]
  }
 ],
 "metadata": {
  "kernelspec": {
   "display_name": "Julia 1.5.1",
   "language": "julia",
   "name": "julia-1.5"
  },
  "language_info": {
   "file_extension": ".jl",
   "mimetype": "application/julia",
   "name": "julia",
   "version": "1.5.1"
  }
 },
 "nbformat": 4,
 "nbformat_minor": 4
}
