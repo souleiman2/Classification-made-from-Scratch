{
 "cells": [
  {
   "cell_type": "code",
   "execution_count": null,
   "metadata": {},
   "outputs": [],
   "source": [
    "using CSV, DataFrames             # Pour charger et organiser les données\n",
    "using Gadfly                      # Pour générer des graphiques\n",
    "using Distributions               # Pour utiliser les distributions statistiques\n",
    "using GLM                         # Libriairie pour la régression et les modèles linéaires généralisés\n",
    "using LinearAlgebra               # Pour utiliser les fonctions d'algèbre linéaire\n",
    "using MLBase                      # Pour utiliser les différents scores et la courbe ROC"
   ]
  },
  {
   "cell_type": "code",
   "execution_count": null,
   "metadata": {},
   "outputs": [],
   "source": [
    "\"\"\"\n",
    "    auc(gt::Array{<:Real}, scores::Array{<:Real})\n",
    "\n",
    "    Compute the area under the ROC curve based on the ground truth `gt` and the success probability `scores`.\n",
    "\n",
    "    See also `roc()` of MLBase.\n",
    "\"\"\"\n",
    "function auc(gt::Array{<:Real},scores::Array{<:Real})\n",
    "\n",
    "    # Compute the ROC curve for 100 equally spaced thresholds - see `roc()`\n",
    "    r = roc(gt, scores)\n",
    "\n",
    "    # Compute the true positive rate and false positive rate\n",
    "    tpr = true_positive_rate.(r)\n",
    "    fpr = false_positive_rate.(r)\n",
    "\n",
    "    # Numerical computation of the area under the ROC curve\n",
    "    p = sortperm(fpr)\n",
    "\n",
    "    permute!(tpr,p)\n",
    "    permute!(fpr,p)\n",
    "\n",
    "    area = 0.0\n",
    "\n",
    "    for i in 2:length(tpr)\n",
    "        dx = fpr[i] - fpr[i-1]\n",
    "        dy = tpr[i] - tpr[i-1]\n",
    "        area += dx*tpr[i-1] + dx*dy/2\n",
    "    end\n",
    "\n",
    "    return area\n",
    "\n",
    "end\n",
    "\n",
    "\n",
    "\"\"\"\n",
    "    rocplot(gt::Array{<:Real},scores::Array{<:Real})\n",
    "\n",
    "    Show the ROC curve corresponding to the ground truth `gt` and the success probability `scores`.\n",
    "\n",
    "    The curve is computed for 100 equally spaced thresholds.\n",
    "\"\"\"\n",
    "function rocplot(gt::Array{<:Real},scores::Array{<:Real})\n",
    "\n",
    "    # Compute the ROC curve for 100 equally spaced thresholds - see `roc()`\n",
    "    r = roc(gt, scores, 0:.01:1)\n",
    "\n",
    "    # Compute the true positive rate and false positive rate\n",
    "    tpr = true_positive_rate.(r)\n",
    "    fpr = false_positive_rate.(r)\n",
    "\n",
    "    return plot(x=fpr, y=tpr, Geom.line, Geom.abline(color=\"red\", style=:dash),\n",
    "        Guide.xlabel(\"False Positive Rate\"), Guide.ylabel(\"True Positive Rate\"))\n",
    "\n",
    "end"
   ]
  },
  {
   "cell_type": "markdown",
   "metadata": {},
   "source": [
    "# Chargement des données\n",
    "\n",
    "Le jeu de données est partionné en deux sous-ensembles : un ensemble d'entraînement et un ensemble de test. L'ensemble d'entraînement, comportant les informations de 455 patients, sert à estimer les paramètres de notre modèle."
   ]
  },
  {
   "cell_type": "code",
   "execution_count": null,
   "metadata": {},
   "outputs": [],
   "source": [
    "# Chargement l'ensemble d'entraînement\n",
    "\n",
    "data = CSV.read(\"train.csv\")\n",
    "first(data, 5)"
   ]
  },
  {
   "cell_type": "markdown",
   "metadata": {},
   "source": [
    "# 3.2 Régression logistique\n",
    "\n",
    "Nous avons déterminés lors de l'analyse de composantes/l'analyse de multicolinéarité que nous avons fait dans un autre document quelles variables il fallait utiliser pour minimiser les problèmes de multicolinéarité et quelles variables conserver. On utilise donc les variables: \"radius\", \"texture\", \"smoothness\", \"compactness\", \"concavity\" et \"symmetry\" comme variable explicative dans le modèle linéaire généralisé."
   ]
  },
  {
   "cell_type": "code",
   "execution_count": null,
   "metadata": {},
   "outputs": [],
   "source": [
    "# Comme nous l'avons vu dans l'analyse colinéaire, nous allons garder:\n",
    "#  1- radius\n",
    "#  2- texture\n",
    "#  5- smoothness\n",
    "#  6- compactness\n",
    "#  7- concavity\n",
    "#  9- symmetry\n",
    "\n",
    "# TODO: il faut les standardiser\n"
   ]
  },
  {
   "cell_type": "markdown",
   "metadata": {},
   "source": [
    "## Estimation par maximum de la vraisemblance du modèle de régression logistique\n",
    "\n",
    "1. La classe des passagers est utilisée comme variable explicative\n",
    "2. La fonction de lien logit est utilisée"
   ]
  },
  {
   "cell_type": "code",
   "execution_count": null,
   "metadata": {},
   "outputs": [],
   "source": [
    "M = glm(@formula(diagnosis ~ radius + texture + smoothness + compactness + concavity + symmetry), data,  Bernoulli(), LogitLink())"
   ]
  },
  {
   "cell_type": "code",
   "execution_count": null,
   "metadata": {},
   "outputs": [],
   "source": [
    "# Pour chacune des observations, estimation de la probabilité de survie\n",
    "\n",
    "θ̂ = predict(M)"
   ]
  },
  {
   "cell_type": "markdown",
   "metadata": {},
   "source": [
    "# 3.2.3 Mesure de la qualité du modèle\n",
    "\n",
    "Supposons que l'on prédit que le passager survit si θ̂ > 1/2 (règle de décision par défaut supposant que les classes sont balancées)."
   ]
  },
  {
   "cell_type": "code",
   "execution_count": null,
   "metadata": {},
   "outputs": [],
   "source": [
    "# Le taux de bonnes prédictions\n",
    "ŷ = zeros(Int64,length(data.diagnosis))\n",
    "ŷ[θ̂ .> 1/2] .= 1 \n",
    "\n",
    "println(\"Le taux de bonnes prédictions est de \", round(correctrate(data.diagnosis, ŷ), digits=3),\".\")\n"
   ]
  },
  {
   "cell_type": "code",
   "execution_count": null,
   "metadata": {},
   "outputs": [],
   "source": [
    "# Calcul du taux de vrais positifs et de faux positifs pour un seuil de 1/2.\n",
    "\n",
    "r = roc(data.diagnosis, θ̂, 1/2)\n",
    "\n",
    "println(\"La sensibilité est de \", round(recall(r), digits=3))\n",
    "println(\"La spécificité est de \", round(precision(r), digits=3))\n",
    "println(\"Le score F1 est de \", round(f1score(r), digits=3))"
   ]
  },
  {
   "cell_type": "code",
   "execution_count": null,
   "metadata": {},
   "outputs": [],
   "source": [
    "# Affichage de la courbe ROC\n",
    "\n",
    "rocplot(data.diagnosis, θ̂)\n"
   ]
  },
  {
   "cell_type": "code",
   "execution_count": null,
   "metadata": {},
   "outputs": [],
   "source": [
    "# Calcul de l'aire sous la courbe ROC\n",
    "\n",
    "A = auc(data.diagnosis, θ̂)"
   ]
  }
 ],
 "metadata": {
  "@webio": {
   "lastCommId": null,
   "lastKernelId": null
  },
  "kernelspec": {
   "display_name": "Julia 1.5.1",
   "language": "julia",
   "name": "julia-1.5"
  },
  "language_info": {
   "file_extension": ".jl",
   "mimetype": "application/julia",
   "name": "julia",
   "version": "1.5.1"
  }
 },
 "nbformat": 4,
 "nbformat_minor": 2
}
